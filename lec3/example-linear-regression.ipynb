{
 "cells": [
  {
   "cell_type": "markdown",
   "metadata": {},
   "source": [
    "OLS solution for linear regression $\\boldsymbol y = \\boldsymbol X\\boldsymbol{\\beta} + \\boldsymbol\\varepsilon$ is given by\n",
    "\n",
    "$$\n",
    "\\hat{\\boldsymbol\\beta} = (\\boldsymbol X^\\top \\boldsymbol X)^{-1}\\boldsymbol X^\\top \\boldsymbol y\n",
    "$$\n",
    "\n",
    "Given a dataset $X$ and $Y$, we can use NumPy to calculate $\\hat\\beta$. First generate the data"
   ]
  },
  {
   "cell_type": "code",
   "execution_count": null,
   "metadata": {},
   "outputs": [],
   "source": [
    "import numpy as np\n",
    "np.random.seed(0)\n",
    "\n",
    "X = np.random.rand(200, 2)\n",
    "X = np.concatenate([np.ones((200, 1)), X], axis=1) # Add intercept term\n",
    "beta_real = np.array([1, 2, 3])\n",
    "Y = X @ beta_real + np.random.randn(200)\n",
    "\n",
    "# Calculate the least squares solution\n",
    "beta_hat = np.linalg.inv(X.T @ X) @ X.T @ Y\n",
    "beta_hat  # [0.84398022 1.97617252 3.13064746]"
   ]
  },
  {
   "cell_type": "markdown",
   "metadata": {},
   "source": [
    "Also, we can calculate the mean squared error (MSE) and $R^2$."
   ]
  },
  {
   "cell_type": "code",
   "execution_count": null,
   "metadata": {},
   "outputs": [],
   "source": [
    "Y_hat = X @ beta_hat\n",
    "mse = np.mean((Y - Y_hat) ** 2)\n",
    "r2 = 1 - mse / np.var(Y)\n",
    "mse, r2  # 0.9656717556650416 0.5398522125124627"
   ]
  },
  {
   "cell_type": "markdown",
   "metadata": {},
   "source": [
    "Next, we can perform significance tests for each coefficient. The null hypothesis is that the coefficient is zero, i.e. $H_0: \\beta_j = 0$.. The test statistic $t_j$ for coefficient $\\beta_j$ is given by\n",
    "\n",
    "$$\n",
    "\\begin{gathered}\n",
    "t_j = \\frac{\\hat\\beta_j}{\\text{SE}(\\hat\\beta_j)} \\\\\n",
    "\\text{SE}(\\hat\\beta_j) = \\sqrt{\\sigma^2 (\\boldsymbol X^\\top \\boldsymbol X)^{-1}_{jj}}\n",
    "\\end{gathered}\n",
    "$$\n",
    "\n",
    "First, we calculate the standard error of $\\hat\\beta_j$ and $t$-statistic."
   ]
  },
  {
   "cell_type": "code",
   "execution_count": null,
   "metadata": {},
   "outputs": [],
   "source": [
    "beta_se = np.sqrt(mse * np.linalg.inv(X.T @ X).diagonal())\n",
    "# [0.18528108, 0.24628093, 0.23554788]\n",
    "t_hat = beta_hat / beta_se\n",
    "t_hat # [ 4.5551345 ,  8.02405816, 13.29091769]"
   ]
  },
  {
   "cell_type": "markdown",
   "metadata": {},
   "source": [
    "$\\hat t$ follows a $t$-distribution with $n-p$ where $n$ is the number of observations (200) and $p$ is the number of predictors (3)."
   ]
  },
  {
   "cell_type": "code",
   "execution_count": null,
   "metadata": {},
   "outputs": [],
   "source": [
    "import scipy.stats as stats\n",
    "t_dist = stats.t(df=X.shape[0] - X.shape[1])\n",
    "p_value = 2 * (1 - t_dist.cdf(np.abs(t_hat)))\n",
    "p_value  # [9.16466729e-06 9.01501096e-14 0.00000000e+00]"
   ]
  },
  {
   "cell_type": "markdown",
   "metadata": {},
   "source": [
    "Since the $p$-value is way less than 0.05, we can reject the null hypothesis that $\\beta_j = 0$ for all the three predictors."
   ]
  },
  {
   "cell_type": "markdown",
   "metadata": {},
   "source": [
    "Next, suppose our data is stored in `data.csv`. First, we need to load the data before we can perform the regression."
   ]
  },
  {
   "cell_type": "code",
   "execution_count": null,
   "metadata": {},
   "outputs": [],
   "source": [
    "import pandas as pd\n",
    "data = pd.read_csv('data.csv', index_col=0)\n",
    "data.head()"
   ]
  },
  {
   "cell_type": "code",
   "execution_count": null,
   "metadata": {},
   "outputs": [],
   "source": [
    "X = data[['X0', 'X1', 'X2']].values\n",
    "Y = data['Y'].to_numpy()\n",
    "\n",
    "beta_hat = np.linalg.inv(X.T @ X) @ X.T @ Y\n",
    "beta_hat # [0.84398022 1.97617252 3.13064746], same as before"
   ]
  }
 ],
 "metadata": {
  "kernelspec": {
   "display_name": "Python 3",
   "language": "python",
   "name": "python3"
  },
  "language_info": {
   "codemirror_mode": {
    "name": "ipython",
    "version": 3
   },
   "file_extension": ".py",
   "mimetype": "text/x-python",
   "name": "python",
   "nbconvert_exporter": "python",
   "pygments_lexer": "ipython3",
   "version": "3.11.7"
  }
 },
 "nbformat": 4,
 "nbformat_minor": 2
}
