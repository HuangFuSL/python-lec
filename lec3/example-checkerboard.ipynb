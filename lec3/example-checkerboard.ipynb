{
 "cells": [
  {
   "cell_type": "markdown",
   "metadata": {},
   "source": [
    "Produce a $8\\times 8$ binary matrix with checkerboard pattern.\n",
    "\n",
    "$$\n",
    "\\begin{bmatrix}\n",
    "    0 & 1 & 0 & 1 & 0 & 1 & 0 & 1 \\\\\n",
    "    1 & 0 & 1 & 0 & 1 & 0 & 1 & 0 \\\\\n",
    "    0 & 1 & 0 & 1 & 0 & 1 & 0 & 1 \\\\\n",
    "    1 & 0 & 1 & 0 & 1 & 0 & 1 & 0 \\\\\n",
    "    0 & 1 & 0 & 1 & 0 & 1 & 0 & 1 \\\\\n",
    "    1 & 0 & 1 & 0 & 1 & 0 & 1 & 0 \\\\\n",
    "    0 & 1 & 0 & 1 & 0 & 1 & 0 & 1 \\\\\n",
    "    1 & 0 & 1 & 0 & 1 & 0 & 1 & 0\n",
    "\\end{bmatrix}\n",
    "$$"
   ]
  },
  {
   "cell_type": "code",
   "execution_count": null,
   "metadata": {},
   "outputs": [],
   "source": [
    "import numpy as np\n",
    "\n",
    "zero, one = np.array(0), np.array(1)\n",
    "row_zero = np.stack([zero, one] * 4)\n",
    "row_one = np.stack([one, zero] * 4)\n",
    "matrix = np.stack([row_zero, row_one] * 4)\n",
    "matrix"
   ]
  },
  {
   "cell_type": "code",
   "execution_count": null,
   "metadata": {},
   "outputs": [],
   "source": [
    "unit = 1 - np.eye(2)  # [[0, 1], [1, 0]]\n",
    "row = np.concatenate([unit] * 4, axis=0)\n",
    "matrix = np.concatenate([row] * 4, axis=1)\n",
    "matrix"
   ]
  },
  {
   "cell_type": "code",
   "execution_count": null,
   "metadata": {},
   "outputs": [],
   "source": [
    "zeros = np.zeros((8, 8))\n",
    "zeros[::2] = 1 - zeros[::2]\n",
    "zeros[:, ::2] = 1 - zeros[:, ::2]\n",
    "zeros"
   ]
  },
  {
   "cell_type": "code",
   "execution_count": null,
   "metadata": {},
   "outputs": [],
   "source": [
    "range_matrix = np.arange(64).reshape(8, 8)\n",
    "result = (range_matrix // 8 + range_matrix % 8) % 2\n",
    "result"
   ]
  },
  {
   "cell_type": "code",
   "execution_count": null,
   "metadata": {},
   "outputs": [],
   "source": [
    "zeros = np.zeros((8, 8))\n",
    "zeros[::2] = 1\n",
    "result = (zeros != zeros.T).astype(int)\n",
    "result"
   ]
  }
 ],
 "metadata": {
  "kernelspec": {
   "display_name": "Python 3",
   "language": "python",
   "name": "python3"
  },
  "language_info": {
   "codemirror_mode": {
    "name": "ipython",
    "version": 3
   },
   "file_extension": ".py",
   "mimetype": "text/x-python",
   "name": "python",
   "nbconvert_exporter": "python",
   "pygments_lexer": "ipython3",
   "version": "3.11.7"
  }
 },
 "nbformat": 4,
 "nbformat_minor": 2
}
