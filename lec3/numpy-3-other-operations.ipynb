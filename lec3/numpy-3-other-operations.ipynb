{
 "cells": [
  {
   "cell_type": "code",
   "execution_count": null,
   "metadata": {},
   "outputs": [],
   "source": [
    "import numpy as np\n",
    "\n",
    "X = np.random.rand(200, 2)\n",
    "X = np.concatenate([np.ones((200, 1)), X], axis=1)"
   ]
  },
  {
   "cell_type": "code",
   "execution_count": null,
   "metadata": {},
   "outputs": [],
   "source": [
    "# Get the first 100 rows of X\n",
    "X[:100]"
   ]
  },
  {
   "cell_type": "code",
   "execution_count": null,
   "metadata": {},
   "outputs": [],
   "source": [
    "# Get the first column of X\n",
    "X[:, 0]"
   ]
  },
  {
   "cell_type": "code",
   "execution_count": null,
   "metadata": {},
   "outputs": [],
   "source": [
    "# Get the value of the element in the 5th row and 2nd column\n",
    "X[4, 1].item()"
   ]
  },
  {
   "cell_type": "code",
   "execution_count": null,
   "metadata": {},
   "outputs": [],
   "source": [
    "# Calculate the sum of the matrix\n",
    "X.sum()"
   ]
  },
  {
   "cell_type": "code",
   "execution_count": null,
   "metadata": {},
   "outputs": [],
   "source": [
    "# Calculate the mean of each column of X\n",
    "np.mean(X, axis=0)"
   ]
  },
  {
   "cell_type": "code",
   "execution_count": null,
   "metadata": {},
   "outputs": [],
   "source": [
    "# Add 1 to the first column of X, 0.5 to the second column of X, and 0.25 to the third column of X\n",
    "X + np.array([1, 0.5, 0.25])"
   ]
  },
  {
   "cell_type": "code",
   "execution_count": null,
   "metadata": {},
   "outputs": [],
   "source": [
    "# Masking\n",
    "\n",
    "a = np.array([-1, 0, 1, -2, 3])\n",
    "mask = a < 0  # [True, False, False, True, False]\n",
    "a[mask] = 0  # Modification happens in-place\n",
    "a"
   ]
  },
  {
   "cell_type": "code",
   "execution_count": null,
   "metadata": {},
   "outputs": [],
   "source": [
    "# Bit operations on boolean arrays\n",
    "\n",
    "a = np.array([True, False, True])\n",
    "b = np.array([False, True, True])\n",
    "print(a & b)  # [False, False, True]\n",
    "print(~a)  # [False, True, False]\n",
    "print(a ^ b)  # [True, True, False]"
   ]
  },
  {
   "cell_type": "code",
   "execution_count": null,
   "metadata": {},
   "outputs": [],
   "source": [
    "# Reshaping\n",
    "original = np.arange(12)\n",
    "print(original)\n",
    "print('-' * 10)\n",
    "print(original.reshape(2, 6))\n",
    "print('-' * 10)\n",
    "print(original.reshape(3, 4))\n",
    "print('-' * 10)\n",
    "print(original.reshape(4, 3))"
   ]
  }
 ],
 "metadata": {
  "kernelspec": {
   "display_name": "Python 3",
   "language": "python",
   "name": "python3"
  },
  "language_info": {
   "codemirror_mode": {
    "name": "ipython",
    "version": 3
   },
   "file_extension": ".py",
   "mimetype": "text/x-python",
   "name": "python",
   "nbconvert_exporter": "python",
   "pygments_lexer": "ipython3",
   "version": "3.11.7"
  }
 },
 "nbformat": 4,
 "nbformat_minor": 2
}
