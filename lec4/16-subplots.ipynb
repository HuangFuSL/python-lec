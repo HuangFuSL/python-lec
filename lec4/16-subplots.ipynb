{
 "cells": [
  {
   "cell_type": "code",
   "execution_count": null,
   "metadata": {},
   "outputs": [],
   "source": [
    "import numpy as np\n",
    "from matplotlib import pyplot as plt\n",
    "\n",
    "x = np.linspace(0, 10, 100)\n",
    "y1, y2 = np.sin(x), np.cos(x)\n",
    "fig, (a, b) = plt.subplots(2, 1, sharex=True)\n",
    "a.plot(x, y1, color='blue', alpha=0.5)\n",
    "a.set_ylabel('y')\n",
    "a.set_title('sin(x)')\n",
    "b.plot(x, y2, color='red', alpha=0.5)\n",
    "b.set_xlabel('x')\n",
    "b.set_ylabel('y')\n",
    "b.set_title('cos(x)')\n",
    "fig.suptitle('Subplots')\n",
    "plt.show()"
   ]
  }
 ],
 "metadata": {
  "kernelspec": {
   "display_name": "Python 3",
   "language": "python",
   "name": "python3"
  },
  "language_info": {
   "codemirror_mode": {
    "name": "ipython",
    "version": 3
   },
   "file_extension": ".py",
   "mimetype": "text/x-python",
   "name": "python",
   "nbconvert_exporter": "python",
   "pygments_lexer": "ipython3",
   "version": "3.11.7"
  }
 },
 "nbformat": 4,
 "nbformat_minor": 2
}
