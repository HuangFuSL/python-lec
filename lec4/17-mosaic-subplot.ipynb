{
 "cells": [
  {
   "cell_type": "code",
   "execution_count": null,
   "metadata": {},
   "outputs": [],
   "source": [
    "import numpy as np\n",
    "from matplotlib import pyplot as plt\n",
    "\n",
    "x = np.linspace(0, 10, 100)\n",
    "y1, y2 = np.sin(x), np.cos(x)\n",
    "y3 = y1 / y2\n",
    "fig, axes = plt.subplot_mosaic([['a', 'b'], ['c', 'c']])\n",
    "axes['a'].plot(x, y1, color='blue', alpha=0.5)\n",
    "axes['b'].plot(x, y2, color='red', alpha=0.5)\n",
    "axes['c'].plot(x, y3, color='green', alpha=0.5)\n",
    "fig.suptitle('Mosaic Subplot')\n",
    "plt.show()"
   ]
  }
 ],
 "metadata": {
  "kernelspec": {
   "display_name": "Python 3",
   "language": "python",
   "name": "python3"
  },
  "language_info": {
   "codemirror_mode": {
    "name": "ipython",
    "version": 3
   },
   "file_extension": ".py",
   "mimetype": "text/x-python",
   "name": "python",
   "nbconvert_exporter": "python",
   "pygments_lexer": "ipython3",
   "version": "3.11.7"
  }
 },
 "nbformat": 4,
 "nbformat_minor": 2
}
