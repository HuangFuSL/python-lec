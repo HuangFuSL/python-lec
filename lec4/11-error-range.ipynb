{
 "cells": [
  {
   "cell_type": "code",
   "execution_count": null,
   "metadata": {},
   "outputs": [],
   "source": [
    "import numpy as np\n",
    "from matplotlib import pyplot as plt\n",
    "\n",
    "x = np.linspace(0, 10, 100)\n",
    "y = 2 * x\n",
    "y_pos_err = 3 + 0.5 * np.random.rand(100)\n",
    "y_neg_err = 2 - 0.2 * np.random.rand(100)\n",
    "plt.plot(x, y, color='black', alpha=0.5)\n",
    "plt.fill_between(x, y + y_pos_err, y, color='red', alpha=0.5)\n",
    "plt.fill_between(x, y, y - y_neg_err, color='green', alpha=0.5)\n",
    "plt.xlabel('x')\n",
    "plt.ylabel('y')\n",
    "plt.title('Error Range')\n",
    "plt.show()"
   ]
  }
 ],
 "metadata": {
  "kernelspec": {
   "display_name": "Python 3",
   "language": "python",
   "name": "python3"
  },
  "language_info": {
   "codemirror_mode": {
    "name": "ipython",
    "version": 3
   },
   "file_extension": ".py",
   "mimetype": "text/x-python",
   "name": "python",
   "nbconvert_exporter": "python",
   "pygments_lexer": "ipython3",
   "version": "3.11.7"
  }
 },
 "nbformat": 4,
 "nbformat_minor": 2
}
