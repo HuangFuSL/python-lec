{
 "cells": [
  {
   "cell_type": "code",
   "execution_count": null,
   "metadata": {},
   "outputs": [],
   "source": [
    "import numpy as np\n",
    "from matplotlib import pyplot as plt\n",
    "\n",
    "np.random.seed(0)\n",
    "\n",
    "x = np.stack([np.ones(25), np.random.randn(25)])\n",
    "beta_true = np.array([1, 2])\n",
    "y = beta_true @ x + np.random.randn(25)\n",
    "beta_hat = np.linalg.inv(x @ x.T) @ x @ y\n",
    "beta_hat"
   ]
  },
  {
   "cell_type": "code",
   "execution_count": null,
   "metadata": {},
   "outputs": [],
   "source": [
    "plt.scatter(x[1], y, color='blue', alpha=0.5, s=7)\n",
    "plt.plot(x[1], beta_hat @ x, color='red', alpha=0.5)\n",
    "for i in range(25):\n",
    "    plt.plot([x[1, i], x[1, i]], [y[i], beta_hat @ x[:, i]], color='gray', alpha=0.5)\n",
    "plt.xlabel('x')\n",
    "plt.ylabel('y')\n",
    "plt.title('Regression Result')\n",
    "plt.show()"
   ]
  },
  {
   "cell_type": "code",
   "execution_count": null,
   "metadata": {},
   "outputs": [],
   "source": [
    "plt.plot(x[1], beta_hat @ x, color='red', alpha=0.7)\n",
    "x2 = x.copy()\n",
    "x2.sort(axis=1)\n",
    "y_err = x2[1].std() * np.sqrt(1 / x2.shape[1] + (x2[1] - x2[1].mean()) ** 2 / np.sum((x2[1] - x2[1].mean()) ** 2))\n",
    "plt.fill_between(x2[1], (beta_hat @ x2) - y_err, (beta_hat @ x2) + y_err, color='red', alpha=0.3, interpolate=True)\n",
    "plt.scatter(x[1], y, color='blue', alpha=0.5, s=7)\n",
    "plt.xlabel('x')\n",
    "plt.ylabel('y')\n",
    "plt.title('Regression Result with Error')\n",
    "plt.show()"
   ]
  },
  {
   "cell_type": "code",
   "execution_count": null,
   "metadata": {},
   "outputs": [],
   "source": [
    "from scipy.stats import norm\n",
    "\n",
    "residuals = y - beta_hat @ x\n",
    "norm_res = (residuals - residuals.mean()) / residuals.std()\n",
    "norm_q = norm.ppf(np.linspace(0, 1, 25))\n",
    "plt.scatter(norm_q, np.sort(norm_res), color='blue', alpha=0.5)\n",
    "plt.plot(norm_q, norm_q, color='red', alpha=0.7)\n",
    "plt.xlabel('Theoretical quantiles')\n",
    "plt.ylabel('Sample quantiles')\n",
    "plt.title('QQ Plot')\n",
    "plt.show()"
   ]
  }
 ],
 "metadata": {
  "kernelspec": {
   "display_name": "Python 3",
   "language": "python",
   "name": "python3"
  },
  "language_info": {
   "codemirror_mode": {
    "name": "ipython",
    "version": 3
   },
   "file_extension": ".py",
   "mimetype": "text/x-python",
   "name": "python",
   "nbconvert_exporter": "python",
   "pygments_lexer": "ipython3",
   "version": "3.11.7"
  }
 },
 "nbformat": 4,
 "nbformat_minor": 2
}
