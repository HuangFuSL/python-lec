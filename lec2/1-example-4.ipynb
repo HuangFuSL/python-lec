{
 "cells": [
  {
   "cell_type": "markdown",
   "metadata": {},
   "source": [
    "# Example 4: Fibonacci sequence\n",
    "\n",
    "Read a positive integer $n$ from the user, and print leading $n$ numbers in the Fibonacci sequence. The first two numbers in the sequence are 0 and 1, and each subsequent number is the sum of the two preceding numbers.\n",
    "\n",
    "Key points: loops, variables, list operations, list reverse indexing.\n",
    "\n",
    "Example input\n",
    "```\n",
    "Enter a positive integer: 10\n",
    "```\n",
    "\n",
    "Example output\n",
    "```\n",
    "0 1 1 2 3 5 8 13 21 34\n",
    "```"
   ]
  },
  {
   "cell_type": "code",
   "execution_count": null,
   "metadata": {
    "vscode": {
     "languageId": "plaintext"
    }
   },
   "outputs": [],
   "source": [
    "def fibonacci(n):\n",
    "    fib = [0, 1]\n",
    "    while len(fib) < n:\n",
    "        fib.append(fib[-1] + fib[-2])\n",
    "    return fib\n",
    "n = int(input('Enter a positive integer: '))\n",
    "print(fibonacci(n))"
   ]
  }
 ],
 "metadata": {
  "language_info": {
   "name": "python"
  }
 },
 "nbformat": 4,
 "nbformat_minor": 2
}
