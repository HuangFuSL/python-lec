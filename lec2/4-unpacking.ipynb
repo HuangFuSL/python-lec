{
 "cells": [
  {
   "cell_type": "markdown",
   "metadata": {},
   "source": [
    "# Example: Unpacking\n",
    "\n",
    "Swap the values of two variables `x` and `y`.\n",
    "\n",
    "Key points: variables, unpacking."
   ]
  },
  {
   "cell_type": "code",
   "execution_count": null,
   "metadata": {
    "vscode": {
     "languageId": "plaintext"
    }
   },
   "outputs": [],
   "source": [
    "x, y = 1, 2\n",
    "x, y = y, x\n",
    "print(x, y)"
   ]
  }
 ],
 "metadata": {
  "language_info": {
   "name": "python"
  }
 },
 "nbformat": 4,
 "nbformat_minor": 2
}
