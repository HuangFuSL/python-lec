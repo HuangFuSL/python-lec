{
 "cells": [
  {
   "cell_type": "markdown",
   "metadata": {},
   "source": [
    "# Example: Squares of even numbers\n",
    "\n",
    "Given a list of numbers, filter out the even numbers and calculate their squares.\n",
    "\n",
    "Key points: `filter` and `map` functions, lambda functions."
   ]
  },
  {
   "cell_type": "code",
   "execution_count": null,
   "metadata": {
    "vscode": {
     "languageId": "plaintext"
    }
   },
   "outputs": [],
   "source": [
    "numbers = [1, 2, 3, 4, 5, 6, 7, 8, 9, 10]\n",
    "squares = map(lambda x: x**2, filter(lambda x: x % 2 == 0, numbers))\n",
    "print([*squares])"
   ]
  }
 ],
 "metadata": {
  "language_info": {
   "name": "python"
  }
 },
 "nbformat": 4,
 "nbformat_minor": 2
}
