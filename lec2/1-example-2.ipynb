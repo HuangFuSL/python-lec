{
 "cells": [
  {
   "cell_type": "markdown",
   "metadata": {},
   "source": [
    "# Example 2: Factorial\n",
    "\n",
    "Read a positive integer $n$ from the user, and calculate the factorial of $n$.\n",
    "\n",
    "Key points: loops.\n",
    "\n",
    "Example input\n",
    "```\n",
    "Enter a positive integer: 5\n",
    "```\n",
    "\n",
    "Example output\n",
    "```\n",
    "The factorial of 5 is 120.\n",
    "```"
   ]
  },
  {
   "cell_type": "code",
   "execution_count": null,
   "metadata": {
    "vscode": {
     "languageId": "plaintext"
    }
   },
   "outputs": [],
   "source": [
    "n = int(input('Enter a positive integer: '))\n",
    "factorial = 1\n",
    "for i in range(1, n + 1):\n",
    "    factorial *= i\n",
    "print(f'The factorial of {n} is {factorial}.')"
   ]
  }
 ],
 "metadata": {
  "language_info": {
   "name": "python"
  }
 },
 "nbformat": 4,
 "nbformat_minor": 2
}
