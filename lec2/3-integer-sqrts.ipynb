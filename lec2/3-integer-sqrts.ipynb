{
 "cells": [
  {
   "cell_type": "markdown",
   "metadata": {},
   "source": [
    "# Example: Integer square roots\n",
    "\n",
    "Randomly generate a series of integers, and calculate their square roots.\n",
    "\n",
    "Key points: random numbers, math functions, loops."
   ]
  },
  {
   "cell_type": "code",
   "execution_count": null,
   "metadata": {
    "vscode": {
     "languageId": "plaintext"
    }
   },
   "outputs": [],
   "source": [
    "import random\n",
    "import math\n",
    "\n",
    "for _ in range(10):\n",
    "    x = random.randint(1, 100)\n",
    "    print(f'The square root of {x} is {math.sqrt(x)}.')"
   ]
  }
 ],
 "metadata": {
  "language_info": {
   "name": "python"
  }
 },
 "nbformat": 4,
 "nbformat_minor": 2
}
