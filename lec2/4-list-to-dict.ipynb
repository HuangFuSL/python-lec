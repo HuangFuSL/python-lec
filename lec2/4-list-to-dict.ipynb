{
 "cells": [
  {
   "cell_type": "markdown",
   "metadata": {},
   "source": [
    "# Example: List to dictionary\n",
    "\n",
    "Convert two lists `['one', 'two', 'three']` and `[1, 2, 3]` into a dictionary.\n",
    "\n",
    "Key points: iterators, built-in functions, dictionary comprehension."
   ]
  },
  {
   "cell_type": "code",
   "execution_count": null,
   "metadata": {
    "vscode": {
     "languageId": "plaintext"
    }
   },
   "outputs": [],
   "source": [
    "keys = ['one', 'two', 'three']\n",
    "values = [1, 2, 3]\n",
    "data = {k: v for k, v in zip(keys, values)}\n",
    "print(data)"
   ]
  }
 ],
 "metadata": {
  "language_info": {
   "name": "python"
  }
 },
 "nbformat": 4,
 "nbformat_minor": 2
}
