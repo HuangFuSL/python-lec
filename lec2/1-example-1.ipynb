{
 "cells": [
  {
   "cell_type": "markdown",
   "metadata": {},
   "source": [
    "# Example 1: Size of rectangle\n",
    "\n",
    "Read the length and width of a rectangle from the user, and calculate the area of the rectangle.\n",
    "\n",
    "Key points: variable assignment, type conversion, input/output, arithmetic operations, f-strings.\n",
    "\n",
    "Example input\n",
    "```\n",
    "Enter the length: 5\n",
    "Enter the width: 3\n",
    "```\n",
    "\n",
    "Example output\n",
    "```\n",
    "The area of the rectangle is 15\n",
    "```"
   ]
  },
  {
   "cell_type": "code",
   "execution_count": null,
   "metadata": {
    "vscode": {
     "languageId": "plaintext"
    }
   },
   "outputs": [],
   "source": [
    "length = float(input('Enter the length: '))\n",
    "width = float(input('Enter the width: '))\n",
    "area = length * width\n",
    "print(f'The area of the rectangle is {area}.')"
   ]
  }
 ],
 "metadata": {
  "language_info": {
   "name": "python"
  }
 },
 "nbformat": 4,
 "nbformat_minor": 2
}
