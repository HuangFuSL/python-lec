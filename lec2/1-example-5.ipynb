{
 "cells": [
  {
   "cell_type": "markdown",
   "metadata": {},
   "source": [
    "# Example 5: Split a string\n",
    "\n",
    "Read a string from the user, and split it into words. Print the words in reverse order.\n",
    "\n",
    "Key points: string operations, list operations.\n",
    "\n",
    "Example input:\n",
    "```\n",
    "Enter a sentence: The quick brown fox jumps over the lazy dog\n",
    "```\n",
    "\n",
    "Example output:\n",
    "```\n",
    "dog lazy the over jumps fox brown quick The\n",
    "```"
   ]
  },
  {
   "cell_type": "code",
   "execution_count": null,
   "metadata": {
    "vscode": {
     "languageId": "plaintext"
    }
   },
   "outputs": [],
   "source": [
    "sentence = input('Enter a sentence: ')\n",
    "words = sentence.split()\n",
    "print(' '.join(words[::-1]))"
   ]
  }
 ],
 "metadata": {
  "language_info": {
   "name": "python"
  }
 },
 "nbformat": 4,
 "nbformat_minor": 2
}
