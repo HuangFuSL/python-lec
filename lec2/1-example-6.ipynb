{
 "cells": [
  {
   "cell_type": "markdown",
   "metadata": {},
   "source": [
    "# Example 6: Count the frequency of words\n",
    "\n",
    "Read a string from the user, and count the frequency of each word in the string.\n",
    "\n",
    "Key points: loop, string operations, dictionary operations.\n",
    "\n",
    "Example input:\n",
    "```\n",
    "Enter a sentence: This is a test . This is a test too .\n",
    "```\n",
    "\n",
    "Example output:\n",
    "```\n",
    "{'This': 2, 'is': 2, 'a': 2, 'test': 2, 'too': 1, '.': 2}\n",
    "```"
   ]
  },
  {
   "cell_type": "code",
   "execution_count": null,
   "metadata": {
    "vscode": {
     "languageId": "plaintext"
    }
   },
   "outputs": [],
   "source": [
    "sentence = input('Enter a sentence: ')\n",
    "words = sentence.split()\n",
    "word_freq = {}\n",
    "\n",
    "for word in words:\n",
    "    word_freq[word] = word_freq.get(word, 0) + 1\n",
    "print(word_freq)"
   ]
  }
 ],
 "metadata": {
  "language_info": {
   "name": "python"
  }
 },
 "nbformat": 4,
 "nbformat_minor": 2
}
