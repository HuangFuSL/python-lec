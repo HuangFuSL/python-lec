{
 "cells": [
  {
   "cell_type": "markdown",
   "metadata": {},
   "source": [
    "# Example 3: Determine whether a year is a leap year\n",
    "\n",
    "Read a year from the user, and determine whether it is a leap year.\n",
    "\n",
    "Key points: conditional statements.\n",
    "\n",
    "Example input 1\n",
    "```\n",
    "Enter a year: 2020\n",
    "```\n",
    "\n",
    "Example output 1\n",
    "```\n",
    "2020 is a leap year.\n",
    "```\n",
    "\n",
    "Example input 2\n",
    "```\n",
    "Enter a year: 2021\n",
    "```\n",
    "\n",
    "Example output 2\n",
    "```\n",
    "2021 is not a leap year.\n",
    "```\n",
    "\n",
    "A year is a leap year if it is divisible by 4. However, if the year is divisible by 100, it is not a leap year, unless it is also divisible by 400."
   ]
  },
  {
   "cell_type": "code",
   "execution_count": null,
   "metadata": {
    "vscode": {
     "languageId": "plaintext"
    }
   },
   "outputs": [],
   "source": [
    "year = int(input('Enter a year: '))\n",
    "if (year % 4 == 0 and year % 100 != 0) or year % 400 == 0:\n",
    "    print(f'{year} is a leap year.')\n",
    "else:\n",
    "    print(f'{year} is not a leap year.')"
   ]
  }
 ],
 "metadata": {
  "language_info": {
   "name": "python"
  }
 },
 "nbformat": 4,
 "nbformat_minor": 2
}
