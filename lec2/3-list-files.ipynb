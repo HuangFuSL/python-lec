{
 "cells": [
  {
   "cell_type": "markdown",
   "metadata": {},
   "source": [
    "# Example: List files in a directory\n",
    "\n",
    "List all files in a directory and print their sizes.\n",
    "\n",
    "Key points: file operations, loops."
   ]
  },
  {
   "cell_type": "code",
   "execution_count": null,
   "metadata": {
    "vscode": {
     "languageId": "plaintext"
    }
   },
   "outputs": [],
   "source": [
    "import os\n",
    "for file in os.listdir('.'):\n",
    "    if os.path.isfile(file):\n",
    "        size = os.path.getsize(file)\n",
    "        print(f'{file}: {size} bytes')"
   ]
  }
 ],
 "metadata": {
  "language_info": {
   "name": "python"
  }
 },
 "nbformat": 4,
 "nbformat_minor": 2
}
