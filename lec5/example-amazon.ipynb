{
 "cells": [
  {
   "cell_type": "code",
   "execution_count": null,
   "metadata": {},
   "outputs": [],
   "source": [
    "import pandas as pd\n",
    "URL = 'https://datarepo.eng.ucsd.edu/mcauley_group/data/amazon_2023/' \\\n",
    "    'raw/review_categories/All_Beauty.jsonl.gz'\n",
    "df = pd.read_json(URL, lines=True, compression='gzip', nrows=5000)\n",
    "print(df.columns)"
   ]
  },
  {
   "cell_type": "code",
   "execution_count": null,
   "metadata": {},
   "outputs": [],
   "source": [
    "print(df[['rating', 'text']].head())"
   ]
  },
  {
   "cell_type": "code",
   "execution_count": null,
   "metadata": {},
   "outputs": [],
   "source": [
    "from sklearn.model_selection import train_test_split\n",
    "df['sentiment'] = df['rating'].apply(lambda x: 0 if x <= 3 else 1)\n",
    "labels_count = df['sentiment'].value_counts()\n",
    "labels_count = labels_count / labels_count.sum()\n",
    "print(labels_count)  # Labels are imbalanced 7728:2272\n",
    "\n",
    "# Split the dataset\n",
    "X_train, X_test, y_train, y_test = train_test_split(\n",
    "    df['text'], df['sentiment'], test_size=0.2\n",
    ")"
   ]
  },
  {
   "cell_type": "code",
   "execution_count": null,
   "metadata": {},
   "outputs": [],
   "source": [
    "stoplist = set('for a of the and to in'.split())\n",
    "def remove_words(text, to_remove):\n",
    "    return ' '.join(\n",
    "        [word for word in text.lower().split() if word not in to_remove]\n",
    "    )\n",
    "fn_stop = lambda x: remove_words(x, stoplist)\n",
    "t_train, t_test = X_train.apply(fn_stop), X_test.apply(fn_stop)"
   ]
  },
  {
   "cell_type": "code",
   "execution_count": null,
   "metadata": {},
   "outputs": [],
   "source": [
    "frequnecy = t_train.str.split().explode().value_counts()\n",
    "frequnecy = frequnecy[frequnecy <= 10]\n",
    "fn_low = lambda x: remove_words(x, set(frequnecy.index))\n",
    "t_train, t_test = t_train.apply(fn_low), t_test.apply(fn_low)"
   ]
  },
  {
   "cell_type": "code",
   "execution_count": null,
   "metadata": {},
   "outputs": [],
   "source": [
    "from gensim import corpora\n",
    "dictionary = corpora.Dictionary(t_train.str.split())\n",
    "corpus = [dictionary.doc2bow(text) for text in t_train.str.split()]"
   ]
  },
  {
   "cell_type": "code",
   "execution_count": null,
   "metadata": {},
   "outputs": [],
   "source": [
    "from gensim import models\n",
    "lsi = models.LsiModel(corpus, id2word=dictionary, num_topics=100)\n",
    "X_train = pd.DataFrame(\n",
    "    [dict(lsi[dictionary.doc2bow(text.split())]) for text in t_train]\n",
    ").fillna(0)\n",
    "X_test = pd.DataFrame(\n",
    "    [dict(lsi[dictionary.doc2bow(text.split())]) for text in t_test]\n",
    ").fillna(0)"
   ]
  },
  {
   "cell_type": "code",
   "execution_count": null,
   "metadata": {},
   "outputs": [],
   "source": [
    "from sklearn.linear_model import LogisticRegression\n",
    "from sklearn.utils.class_weight import compute_sample_weight\n",
    "lr = LogisticRegression()\n",
    "sample_weight = compute_sample_weight('balanced', y_train)\n",
    "lr.fit(X_train, y_train, sample_weight=sample_weight)"
   ]
  },
  {
   "cell_type": "code",
   "execution_count": null,
   "metadata": {},
   "outputs": [],
   "source": [
    "from sklearn.metrics import accuracy_score, roc_curve, roc_auc_score\n",
    "from sklearn.metrics import precision_score, recall_score, f1_score\n",
    "y_pred = lr.predict(X_test)\n",
    "print(accuracy_score(y_test, y_pred))  # ~0.8\n",
    "print(precision_score(y_test, y_pred))  # ~0.9\n",
    "print(recall_score(y_test, y_pred))  # ~0.67\n",
    "print(f1_score(y_test, y_pred))  # ~0.77\n",
    "\n",
    "fpr, tpr, _ = roc_curve(y_test, lr.predict_proba(X_test)[:, 1])\n",
    "auc = roc_auc_score(y_test, lr.predict_proba(X_test)[:, 1])"
   ]
  },
  {
   "cell_type": "code",
   "execution_count": null,
   "metadata": {},
   "outputs": [],
   "source": [
    "from matplotlib import pyplot as plt\n",
    "plt.plot(fpr, tpr)\n",
    "plt.plot([0, 1], [0, 1], '--', color='red')\n",
    "plt.text(0.6, 0.4, f'AUC: {auc:.3f}')\n",
    "plt.xlabel('False Positive Rate')\n",
    "plt.ylabel('True Positive Rate')\n",
    "plt.show()"
   ]
  },
  {
   "cell_type": "code",
   "execution_count": null,
   "metadata": {},
   "outputs": [],
   "source": [
    "text = [\n",
    "    'These are pretty and seem well made. I find them comfortable to wear and they are cute.',\n",
    "    'this product was terrible, i will never recommend it to anyone',\n",
    "]\n",
    "text = [remove_words(sentence, stoplist) for sentence in text]\n",
    "text = [remove_words(sentence, set(frequnecy.index)) for sentence in text]\n",
    "text = pd.DataFrame([\n",
    "    dict(lsi[dictionary.doc2bow(sentence.split())])\n",
    "    for sentence in text\n",
    "])\n",
    "print(lr.predict(text))  # [1 0]"
   ]
  }
 ],
 "metadata": {
  "kernelspec": {
   "display_name": "Python 3",
   "language": "python",
   "name": "python3"
  },
  "language_info": {
   "codemirror_mode": {
    "name": "ipython",
    "version": 3
   },
   "file_extension": ".py",
   "mimetype": "text/x-python",
   "name": "python",
   "nbconvert_exporter": "python",
   "pygments_lexer": "ipython3",
   "version": "3.11.7"
  }
 },
 "nbformat": 4,
 "nbformat_minor": 2
}
