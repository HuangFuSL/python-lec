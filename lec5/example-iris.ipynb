{
 "cells": [
  {
   "cell_type": "code",
   "execution_count": null,
   "metadata": {},
   "outputs": [],
   "source": [
    "from sklearn.datasets import load_iris\n",
    "import pandas as pd\n",
    "iris = load_iris()\n",
    "df = pd.DataFrame(iris.data, columns=iris.feature_names)\n",
    "df['target'] = iris.target\n",
    "print(df.head())"
   ]
  },
  {
   "cell_type": "code",
   "execution_count": null,
   "metadata": {},
   "outputs": [],
   "source": [
    "from matplotlib import pyplot as plt\n",
    "fig, ax = plt.subplots(4, 4, figsize=(8, 8), sharex='col', sharey='row')\n",
    "for i in range(4):\n",
    "    for j in range(4):\n",
    "        ax[i, j].scatter(\n",
    "            df.iloc[:, j],\n",
    "            df.iloc[:, i],\n",
    "            c=df['target'],\n",
    "            alpha=0.8, s=5\n",
    "        )\n",
    "plt.show()"
   ]
  },
  {
   "cell_type": "code",
   "execution_count": null,
   "metadata": {},
   "outputs": [],
   "source": [
    "from sklearn.tree import DecisionTreeClassifier\n",
    "from sklearn.ensemble import RandomForestClassifier\n",
    "from sklearn.ensemble import GradientBoostingClassifier\n",
    "from sklearn.linear_model import LogisticRegression\n",
    "\n",
    "models = {\n",
    "    'dt': DecisionTreeClassifier(),\n",
    "    'rf': RandomForestClassifier(),\n",
    "    'gb': GradientBoostingClassifier(),\n",
    "    'lr': LogisticRegression(max_iter=500)\n",
    "}"
   ]
  },
  {
   "cell_type": "code",
   "execution_count": null,
   "metadata": {},
   "outputs": [],
   "source": [
    "from sklearn.model_selection import cross_val_score\n",
    "for name, model in models.items():\n",
    "    scores = cross_val_score(model, iris.data, iris.target, cv=10)\n",
    "    print(f'{name}: {scores.mean():.3f}')"
   ]
  },
  {
   "cell_type": "code",
   "execution_count": null,
   "metadata": {},
   "outputs": [],
   "source": [
    "from sklearn.decomposition import PCA\n",
    "pca = PCA(n_components=2)\n",
    "X = pca.fit_transform(iris.data)\n",
    "plt.scatter(X[:, 0], X[:, 1], c=iris.target, alpha=0.8, s=10)\n",
    "plt.show()"
   ]
  },
  {
   "cell_type": "code",
   "execution_count": null,
   "metadata": {},
   "outputs": [],
   "source": [
    "import numpy as np\n",
    "lr = LogisticRegression()\n",
    "lr.fit(X, iris.target)\n",
    "grid = np.meshgrid(\n",
    "    np.linspace(X[:, 0].min(), X[:, 0].max(), 100),\n",
    "    np.linspace(X[:, 1].min(), X[:, 1].max(), 100)\n",
    ")\n",
    "grid_y = lr.predict(\n",
    "    np.c_[grid[0].ravel(), grid[1].ravel()]\n",
    ").reshape(grid[0].shape)\n",
    "plt.contourf(grid[0], grid[1], grid_y, alpha=0.3)\n",
    "plt.scatter(X[:, 0], X[:, 1], c=iris.target, alpha=0.8, s=10)"
   ]
  }
 ],
 "metadata": {
  "kernelspec": {
   "display_name": "Python 3",
   "language": "python",
   "name": "python3"
  },
  "language_info": {
   "codemirror_mode": {
    "name": "ipython",
    "version": 3
   },
   "file_extension": ".py",
   "mimetype": "text/x-python",
   "name": "python",
   "nbconvert_exporter": "python",
   "pygments_lexer": "ipython3",
   "version": "3.11.7"
  }
 },
 "nbformat": 4,
 "nbformat_minor": 2
}
