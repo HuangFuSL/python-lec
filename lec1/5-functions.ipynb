{
 "cells": [
  {
   "cell_type": "code",
   "execution_count": null,
   "metadata": {},
   "outputs": [],
   "source": [
    "def return_None():\n",
    "    print('This function returns None')\n",
    "\n",
    "print(return_None())"
   ]
  },
  {
   "cell_type": "code",
   "execution_count": null,
   "metadata": {},
   "outputs": [],
   "source": [
    "def greet(name, greeting='Hello'):\n",
    "    return f'{greeting}, {name}'\n",
    "\n",
    "print(greet('John'))\n",
    "print(greet('John', 'Goodbye'))"
   ]
  },
  {
   "cell_type": "code",
   "execution_count": null,
   "metadata": {},
   "outputs": [],
   "source": [
    "def div(x: int, y: int) -> float:\n",
    "    return x / y\n",
    "\n",
    "\n",
    "print(div(3, 4))\n",
    "print(div(x=3, y=4))\n",
    "print(div(y=4, x=3))\n",
    "print(div(3, y=4))\n",
    "print(div(*[3, 4]))\n",
    "print(div(**{'x': 3, 'y': 4}))"
   ]
  },
  {
   "cell_type": "code",
   "execution_count": null,
   "metadata": {},
   "outputs": [],
   "source": [
    "def add(*args, **kwargs):\n",
    "    return sum(args) + sum(kwargs.values())\n",
    "\n",
    "print(add(1, 2, 3, a=4, b=5, c=6))"
   ]
  },
  {
   "cell_type": "code",
   "execution_count": null,
   "metadata": {},
   "outputs": [],
   "source": [
    "import math\n",
    "\n",
    "print(math.pi)\n",
    "print(math.sqrt(4))"
   ]
  }
 ],
 "metadata": {
  "kernelspec": {
   "display_name": "Python 3 (ipykernel)",
   "language": "python",
   "name": "python3"
  },
  "language_info": {
   "codemirror_mode": {
    "name": "ipython",
    "version": 3
   },
   "file_extension": ".py",
   "mimetype": "text/x-python",
   "name": "python",
   "nbconvert_exporter": "python",
   "pygments_lexer": "ipython3",
   "version": "3.11.7"
  }
 },
 "nbformat": 4,
 "nbformat_minor": 2
}
