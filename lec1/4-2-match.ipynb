{
 "cells": [
  {
   "cell_type": "code",
   "execution_count": null,
   "metadata": {},
   "outputs": [],
   "source": [
    "x = 4\n",
    "match x:\n",
    "    case 1:\n",
    "        print(\"one\")\n",
    "    case 2 | 3:\n",
    "        print(\"two or three\")\n",
    "    case _:  # equivalent to default\n",
    "        print(\"something else\")"
   ]
  }
 ],
 "metadata": {
  "language_info": {
   "name": "python"
  }
 },
 "nbformat": 4,
 "nbformat_minor": 2
}
